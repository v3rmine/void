{
 "cells": [
  {
   "cell_type": "code",
   "execution_count": 1,
   "id": "fcda9773",
   "metadata": {},
   "outputs": [
    {
     "data": {
      "text/html": [
       "Changes: <br /><table><tr><th>Type</th><th>Identifier</th><th>Value</th><tr><td>Register</td><td>EBX</td>\n",
       "            <td>16</td></tr><tr><td>Register</td><td>EDX</td>\n",
       "            <td>2</td></tr></table>"
      ]
     },
     "metadata": {},
     "output_type": "display_data"
    }
   ],
   "source": [
    "mov edx, 2\n",
    "mov ebx, 16"
   ]
  }
 ],
 "metadata": {
  "kernelspec": {
   "display_name": "Intel",
   "language": "",
   "name": "intel"
  },
  "language_info": {
   "file_extension": "x86",
   "mimetype": "intel",
   "name": "intel"
  }
 },
 "nbformat": 4,
 "nbformat_minor": 5
}
