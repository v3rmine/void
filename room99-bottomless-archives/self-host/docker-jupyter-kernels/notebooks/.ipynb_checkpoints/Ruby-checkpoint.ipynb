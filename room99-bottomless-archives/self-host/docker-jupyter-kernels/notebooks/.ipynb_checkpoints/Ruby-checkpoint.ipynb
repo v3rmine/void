{
 "cells": [
  {
   "cell_type": "code",
   "execution_count": 1,
   "id": "4df9fd2c",
   "metadata": {},
   "outputs": [
    {
     "name": "stdout",
     "output_type": "stream",
     "text": [
      "Hello, world!\n"
     ]
    }
   ],
   "source": [
    "puts 'Hello, world!'"
   ]
  }
 ],
 "metadata": {
  "kernelspec": {
   "display_name": "Ruby 2.7.0",
   "language": "ruby",
   "name": "ruby"
  },
  "language_info": {
   "file_extension": ".rb",
   "mimetype": "application/x-ruby",
   "name": "ruby",
   "version": "2.7.0"
  }
 },
 "nbformat": 4,
 "nbformat_minor": 5
}
