{
 "cells": [
  {
   "cell_type": "code",
   "execution_count": 6,
   "id": "8158b593",
   "metadata": {},
   "outputs": [
    {
     "name": "stdout",
     "output_type": "stream",
     "text": [
      "hello world\n",
      "0\n"
     ]
    }
   ],
   "source": [
    "(print \"hello world\")\n",
    "\n",
    "(setv x 0)\n",
    "(print x)"
   ]
  }
 ],
 "metadata": {
  "kernelspec": {
   "display_name": "Calysto Hy",
   "language": "hy",
   "name": "calysto_hy"
  },
  "language_info": {
   "codemirror_mode": {
    "name": "scheme"
   },
   "mimetype": "text/x-hylang",
   "name": "hy",
   "pygments_lexer": "lisp"
  }
 },
 "nbformat": 4,
 "nbformat_minor": 5
}
