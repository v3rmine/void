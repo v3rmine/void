{
 "cells": [
  {
   "cell_type": "code",
   "execution_count": 6,
   "id": "4f3d06cc",
   "metadata": {},
   "outputs": [],
   "source": [
    "import Html\\n\",\n",
    "    \"\\n\",\n",
    "    \"main = \\n\",\n",
    "    \"    Html.text \\\"Hello, world!\\\"\\n\",\n",
    "-- compile-code"
   ]
  }
 ],
 "metadata": {
  "kernelspec": {
   "display_name": "Elm",
   "language": "elm",
   "name": "elm"
  },
  "language_info": {
   "codemirror_mode": "elm",
   "file_extension": ".elm",
   "mimetype": "text/x-elm",
   "name": "elm"
  }
 },
 "nbformat": 4,
 "nbformat_minor": 5
}
