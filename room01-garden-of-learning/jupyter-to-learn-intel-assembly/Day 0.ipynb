{
 "cells": [
  {
   "cell_type": "markdown",
   "metadata": {},
   "source": [
    "# Day 0 - Just after installing\n",
    "\n",
    "Following the guide on the Intel kernel github"
   ]
  },
  {
   "cell_type": "code",
   "execution_count": 1,
   "metadata": {},
   "outputs": [
    {
     "data": {
      "text/html": [
       "Changes: <br /><table><tr><th>Type</th><th>Identifier</th><th>Value</th><tr><td>Register</td><td>EBX</td>\n",
       "            <td>16</td></tr><tr><td>Register</td><td>EDX</td>\n",
       "            <td>2</td></tr></table>"
      ]
     },
     "metadata": {},
     "output_type": "display_data"
    }
   ],
   "source": [
    "mov edx, 2\n",
    "mov ebx, 16"
   ]
  },
  {
   "cell_type": "code",
   "execution_count": 2,
   "metadata": {},
   "outputs": [
    {
     "data": {
      "text/html": [
       "Changes: <br /><table><tr><th>Type</th><th>Identifier</th><th>Value</th><tr><td>Register</td><td>EAX</td>\n",
       "            <td>30</td></tr><tr><td>Register</td><td>EBX</td>\n",
       "            <td>3</td></tr></table>"
      ]
     },
     "metadata": {},
     "output_type": "display_data"
    }
   ],
   "source": [
    "mov eax, 10\n",
    "mov ebx, 3\n",
    "imul eax, ebx"
   ]
  },
  {
   "cell_type": "code",
   "execution_count": 5,
   "metadata": {},
   "outputs": [
    {
     "data": {
      "text/html": [
       "Changes: <br /><table><tr><th>Type</th><th>Identifier</th><th>Value</th><tr><td>Register</td><td>EAX</td>\n",
       "            <td>10</td></tr><tr><td>Register</td><td>EBX</td>\n",
       "            <td>20</td></tr><tr><td>Register</td><td>ECX</td>\n",
       "            <td>30</td></tr></table>"
      ]
     },
     "metadata": {},
     "output_type": "display_data"
    }
   ],
   "source": [
    "mov eax, 10\n",
    "mov ebx, 20\n",
    "\n",
    "sum: mov ecx, eax\n",
    "     add ecx, ebx\n",
    "     "
   ]
  },
  {
   "cell_type": "code",
   "execution_count": 8,
   "metadata": {},
   "outputs": [
    {
     "data": {
      "text/html": [
       "Changes: <br /><table><tr><th>Type</th><th>Identifier</th><th>Value</th><tr><td>Flag</td><td>SF</td>\n",
       "            <td>0</td></tr><tr><td>Flag</td><td>ZF</td>\n",
       "            <td>0</td></tr></table>"
      ]
     },
     "metadata": {},
     "output_type": "display_data"
    }
   ],
   "source": [
    "cmp ebx, 1"
   ]
  },
  {
   "cell_type": "code",
   "execution_count": 9,
   "metadata": {},
   "outputs": [
    {
     "data": {
      "text/html": [
       "Changes: <br /><table><tr><th>Type</th><th>Identifier</th><th>Value</th><tr><td>Register</td><td>EBX</td>\n",
       "            <td>1</td></tr><tr><td>Register</td><td>ECX</td>\n",
       "            <td>2</td></tr><tr><td>Register</td><td>EDX</td>\n",
       "            <td>8</td></tr><tr><td>Flag</td><td>SF</td>\n",
       "            <td>0</td></tr><tr><td>Flag</td><td>ZF</td>\n",
       "            <td>1</td></tr></table>"
      ]
     },
     "metadata": {},
     "output_type": "display_data"
    }
   ],
   "source": [
    "mov edx, 2\n",
    "mov ecx, 2\n",
    "mov ebx, 4\n",
    "\n",
    "multiply: add edx, ecx\n",
    "          dec ebx\n",
    "          cmp ebx, 1\n",
    "          jne multiply"
   ]
  },
  {
   "cell_type": "code",
   "execution_count": 11,
   "metadata": {},
   "outputs": [
    {
     "data": {
      "text/html": [
       "Changes: <br /><table><tr><th>Type</th><th>Identifier</th><th>Value</th><tr><td>Register</td><td>EBX</td>\n",
       "            <td>1</td></tr><tr><td>Register</td><td>ECX</td>\n",
       "            <td>2</td></tr><tr><td>Register</td><td>EDX</td>\n",
       "            <td>8</td></tr><tr><td>Memory</td><td>0</td>\n",
       "            <td>8</td></tr><tr><td>Flag</td><td>SF</td>\n",
       "            <td>0</td></tr><tr><td>Flag</td><td>ZF</td>\n",
       "            <td>1</td></tr></table>"
      ]
     },
     "metadata": {},
     "output_type": "display_data"
    }
   ],
   "source": [
    "mov edx, 2\n",
    "mov ecx, 2\n",
    "mov ebx, 4\n",
    "call multiply\n",
    "jmp end\n",
    "\n",
    "multiply: add edx, ecx\n",
    "          dec ebx\n",
    "          cmp ebx, 1\n",
    "          jne multiply\n",
    "          ret\n",
    "\n",
    "end: mov [0], edx"
   ]
  },
  {
   "cell_type": "code",
   "execution_count": 12,
   "metadata": {},
   "outputs": [
    {
     "data": {
      "text/html": [
       "Changes: <br /><table><tr><th>Type</th><th>Identifier</th><th>Value</th><tr><td>Register</td><td>EAX</td>\n",
       "            <td>0</td></tr><tr><td>Register</td><td>EBX</td>\n",
       "            <td>1</td></tr><tr><td>Register</td><td>ECX</td>\n",
       "            <td>2</td></tr><tr><td>Register</td><td>EDX</td>\n",
       "            <td>65536</td></tr><tr><td>Flag</td><td>SF</td>\n",
       "            <td>0</td></tr><tr><td>Flag</td><td>ZF</td>\n",
       "            <td>1</td></tr></table>"
      ]
     },
     "metadata": {},
     "output_type": "display_data"
    }
   ],
   "source": [
    "; In edx we put the number to raise the power we put in ebx\n",
    "mov edx, 2\n",
    "mov ebx, 16\n",
    "call power\n",
    "mov eax, 0\n",
    "int 32\n",
    "\n",
    "power: mov ecx, edx\n",
    "loop: imul edx, ecx\n",
    "      dec ebx\n",
    "      cmp ebx, 1\n",
    "      jne loop\n",
    "      ret"
   ]
  }
 ],
 "metadata": {
  "kernelspec": {
   "display_name": "Intel",
   "language": "",
   "name": "intel"
  },
  "language_info": {
   "file_extension": "x86",
   "mimetype": "intel",
   "name": "intel"
  }
 },
 "nbformat": 4,
 "nbformat_minor": 4
}
